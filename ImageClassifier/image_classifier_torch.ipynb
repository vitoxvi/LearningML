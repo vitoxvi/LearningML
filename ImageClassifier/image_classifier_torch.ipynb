{
 "cells": [
  {
   "cell_type": "markdown",
   "id": "a7f0f55f",
   "metadata": {},
   "source": [
    "because I'm trying to lean torch I am going to build the same thing again but this time in torch"
   ]
  }
 ],
 "metadata": {
  "language_info": {
   "name": "python"
  }
 },
 "nbformat": 4,
 "nbformat_minor": 5
}
