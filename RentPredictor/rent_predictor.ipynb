{
 "cells": [
  {
   "cell_type": "markdown",
   "id": "20df9922",
   "metadata": {},
   "source": [
    "Hi, this toy example is inspired by Codecademy: INTRO TO PYTORCH AND NEURAL NETWORKS\n",
    "https://www.codecademy.com/enrolled/courses/intro-to-py-torch-and-neural-networks\n",
    "\n"
   ]
  },
  {
   "cell_type": "code",
   "execution_count": 49,
   "id": "f1d18a9f",
   "metadata": {},
   "outputs": [],
   "source": [
    "import pandas as pd \n",
    "import torch as torch\n",
    "import sklearn as sk\n",
    "import numpy as np"
   ]
  },
  {
   "cell_type": "code",
   "execution_count": 50,
   "id": "3f455aa1",
   "metadata": {},
   "outputs": [
    {
     "name": "stdout",
     "output_type": "stream",
     "text": [
      "<class 'pandas.core.frame.DataFrame'>\n",
      "RangeIndex: 5000 entries, 0 to 4999\n",
      "Data columns (total 20 columns):\n",
      " #   Column            Non-Null Count  Dtype  \n",
      "---  ------            --------------  -----  \n",
      " 0   rental_id         5000 non-null   int64  \n",
      " 1   building_id       5000 non-null   int64  \n",
      " 2   rent              5000 non-null   int64  \n",
      " 3   bedrooms          5000 non-null   float64\n",
      " 4   bathrooms         5000 non-null   int64  \n",
      " 5   size_sqft         5000 non-null   int64  \n",
      " 6   min_to_subway     5000 non-null   int64  \n",
      " 7   floor             5000 non-null   float64\n",
      " 8   building_age_yrs  5000 non-null   int64  \n",
      " 9   no_fee            5000 non-null   int64  \n",
      " 10  has_roofdeck      5000 non-null   int64  \n",
      " 11  has_washer_dryer  5000 non-null   int64  \n",
      " 12  has_doorman       5000 non-null   int64  \n",
      " 13  has_elevator      5000 non-null   int64  \n",
      " 14  has_dishwasher    5000 non-null   int64  \n",
      " 15  has_patio         5000 non-null   int64  \n",
      " 16  has_gym           5000 non-null   int64  \n",
      " 17  neighborhood      5000 non-null   object \n",
      " 18  submarket         5000 non-null   object \n",
      " 19  borough           5000 non-null   object \n",
      "dtypes: float64(2), int64(15), object(3)\n",
      "memory usage: 781.4+ KB\n"
     ]
    },
    {
     "data": {
      "text/html": [
       "<div>\n",
       "<style scoped>\n",
       "    .dataframe tbody tr th:only-of-type {\n",
       "        vertical-align: middle;\n",
       "    }\n",
       "\n",
       "    .dataframe tbody tr th {\n",
       "        vertical-align: top;\n",
       "    }\n",
       "\n",
       "    .dataframe thead th {\n",
       "        text-align: right;\n",
       "    }\n",
       "</style>\n",
       "<table border=\"1\" class=\"dataframe\">\n",
       "  <thead>\n",
       "    <tr style=\"text-align: right;\">\n",
       "      <th></th>\n",
       "      <th>rental_id</th>\n",
       "      <th>building_id</th>\n",
       "      <th>rent</th>\n",
       "      <th>bedrooms</th>\n",
       "      <th>bathrooms</th>\n",
       "      <th>size_sqft</th>\n",
       "      <th>min_to_subway</th>\n",
       "      <th>floor</th>\n",
       "      <th>building_age_yrs</th>\n",
       "      <th>no_fee</th>\n",
       "      <th>has_roofdeck</th>\n",
       "      <th>has_washer_dryer</th>\n",
       "      <th>has_doorman</th>\n",
       "      <th>has_elevator</th>\n",
       "      <th>has_dishwasher</th>\n",
       "      <th>has_patio</th>\n",
       "      <th>has_gym</th>\n",
       "      <th>neighborhood</th>\n",
       "      <th>submarket</th>\n",
       "      <th>borough</th>\n",
       "    </tr>\n",
       "  </thead>\n",
       "  <tbody>\n",
       "    <tr>\n",
       "      <th>0</th>\n",
       "      <td>1545</td>\n",
       "      <td>44518357</td>\n",
       "      <td>2550</td>\n",
       "      <td>0.0</td>\n",
       "      <td>1</td>\n",
       "      <td>480</td>\n",
       "      <td>9</td>\n",
       "      <td>2.0</td>\n",
       "      <td>17</td>\n",
       "      <td>1</td>\n",
       "      <td>1</td>\n",
       "      <td>0</td>\n",
       "      <td>0</td>\n",
       "      <td>1</td>\n",
       "      <td>1</td>\n",
       "      <td>0</td>\n",
       "      <td>1</td>\n",
       "      <td>Upper East Side</td>\n",
       "      <td>All Upper East Side</td>\n",
       "      <td>Manhattan</td>\n",
       "    </tr>\n",
       "    <tr>\n",
       "      <th>1</th>\n",
       "      <td>2472</td>\n",
       "      <td>94441623</td>\n",
       "      <td>11500</td>\n",
       "      <td>2.0</td>\n",
       "      <td>2</td>\n",
       "      <td>2000</td>\n",
       "      <td>4</td>\n",
       "      <td>1.0</td>\n",
       "      <td>96</td>\n",
       "      <td>0</td>\n",
       "      <td>0</td>\n",
       "      <td>0</td>\n",
       "      <td>0</td>\n",
       "      <td>0</td>\n",
       "      <td>0</td>\n",
       "      <td>0</td>\n",
       "      <td>0</td>\n",
       "      <td>Greenwich Village</td>\n",
       "      <td>All Downtown</td>\n",
       "      <td>Manhattan</td>\n",
       "    </tr>\n",
       "    <tr>\n",
       "      <th>2</th>\n",
       "      <td>10234</td>\n",
       "      <td>87632265</td>\n",
       "      <td>3000</td>\n",
       "      <td>3.0</td>\n",
       "      <td>1</td>\n",
       "      <td>1000</td>\n",
       "      <td>4</td>\n",
       "      <td>1.0</td>\n",
       "      <td>106</td>\n",
       "      <td>0</td>\n",
       "      <td>0</td>\n",
       "      <td>0</td>\n",
       "      <td>0</td>\n",
       "      <td>0</td>\n",
       "      <td>0</td>\n",
       "      <td>0</td>\n",
       "      <td>0</td>\n",
       "      <td>Astoria</td>\n",
       "      <td>Northwest Queens</td>\n",
       "      <td>Queens</td>\n",
       "    </tr>\n",
       "    <tr>\n",
       "      <th>3</th>\n",
       "      <td>2919</td>\n",
       "      <td>76909719</td>\n",
       "      <td>4500</td>\n",
       "      <td>1.0</td>\n",
       "      <td>1</td>\n",
       "      <td>916</td>\n",
       "      <td>2</td>\n",
       "      <td>51.0</td>\n",
       "      <td>29</td>\n",
       "      <td>0</td>\n",
       "      <td>1</td>\n",
       "      <td>0</td>\n",
       "      <td>1</td>\n",
       "      <td>1</td>\n",
       "      <td>1</td>\n",
       "      <td>0</td>\n",
       "      <td>0</td>\n",
       "      <td>Midtown</td>\n",
       "      <td>All Midtown</td>\n",
       "      <td>Manhattan</td>\n",
       "    </tr>\n",
       "    <tr>\n",
       "      <th>4</th>\n",
       "      <td>2790</td>\n",
       "      <td>92953520</td>\n",
       "      <td>4795</td>\n",
       "      <td>1.0</td>\n",
       "      <td>1</td>\n",
       "      <td>975</td>\n",
       "      <td>3</td>\n",
       "      <td>8.0</td>\n",
       "      <td>31</td>\n",
       "      <td>0</td>\n",
       "      <td>0</td>\n",
       "      <td>0</td>\n",
       "      <td>1</td>\n",
       "      <td>1</td>\n",
       "      <td>1</td>\n",
       "      <td>0</td>\n",
       "      <td>1</td>\n",
       "      <td>Greenwich Village</td>\n",
       "      <td>All Downtown</td>\n",
       "      <td>Manhattan</td>\n",
       "    </tr>\n",
       "  </tbody>\n",
       "</table>\n",
       "</div>"
      ],
      "text/plain": [
       "   rental_id  building_id   rent  bedrooms  bathrooms  size_sqft  \\\n",
       "0       1545     44518357   2550       0.0          1        480   \n",
       "1       2472     94441623  11500       2.0          2       2000   \n",
       "2      10234     87632265   3000       3.0          1       1000   \n",
       "3       2919     76909719   4500       1.0          1        916   \n",
       "4       2790     92953520   4795       1.0          1        975   \n",
       "\n",
       "   min_to_subway  floor  building_age_yrs  no_fee  has_roofdeck  \\\n",
       "0              9    2.0                17       1             1   \n",
       "1              4    1.0                96       0             0   \n",
       "2              4    1.0               106       0             0   \n",
       "3              2   51.0                29       0             1   \n",
       "4              3    8.0                31       0             0   \n",
       "\n",
       "   has_washer_dryer  has_doorman  has_elevator  has_dishwasher  has_patio  \\\n",
       "0                 0            0             1               1          0   \n",
       "1                 0            0             0               0          0   \n",
       "2                 0            0             0               0          0   \n",
       "3                 0            1             1               1          0   \n",
       "4                 0            1             1               1          0   \n",
       "\n",
       "   has_gym       neighborhood            submarket    borough  \n",
       "0        1    Upper East Side  All Upper East Side  Manhattan  \n",
       "1        0  Greenwich Village         All Downtown  Manhattan  \n",
       "2        0            Astoria     Northwest Queens     Queens  \n",
       "3        0            Midtown          All Midtown  Manhattan  \n",
       "4        1  Greenwich Village         All Downtown  Manhattan  "
      ]
     },
     "execution_count": 50,
     "metadata": {},
     "output_type": "execute_result"
    }
   ],
   "source": [
    "df = pd.read_csv('streeteasy.csv')\n",
    "df.info()\n",
    "df.head()"
   ]
  },
  {
   "cell_type": "code",
   "execution_count": 51,
   "id": "6283b8ec",
   "metadata": {},
   "outputs": [],
   "source": [
    "## extracting target values\n",
    "y_pre = torch.tensor(df['rent'].values, dtype=torch.float32)"
   ]
  },
  {
   "cell_type": "code",
   "execution_count": 52,
   "id": "e59c639b",
   "metadata": {},
   "outputs": [],
   "source": [
    "from sklearn.preprocessing import StandardScaler\n",
    "\n",
    "y_scaler = StandardScaler()\n",
    "\n",
    "y_numpy = y_pre.numpy().reshape(-1,1)\n",
    "\n",
    "y_scaled = y_scaler.fit_transform(y_numpy)\n",
    "\n",
    "y = torch.tensor(y_scaled, dtype=torch.float32).flatten()"
   ]
  },
  {
   "cell_type": "code",
   "execution_count": 53,
   "id": "c36cb640",
   "metadata": {},
   "outputs": [],
   "source": [
    "## extracting the important features\n",
    "imp_features = ['bedrooms', 'bathrooms', 'size_sqft', 'min_to_subway', 'floor', 'building_age_yrs', 'has_elevator', 'has_dishwasher', 'has_gym']\n",
    "X_pre = torch.tensor(df[imp_features].values, dtype=torch.float32)"
   ]
  },
  {
   "cell_type": "code",
   "execution_count": 54,
   "id": "98b62047",
   "metadata": {},
   "outputs": [],
   "source": [
    "## normalize features to improve training speed and stability\n",
    "from sklearn.preprocessing import StandardScaler\n",
    "\n",
    "scaler = StandardScaler()\n",
    "X_scaled = scaler.fit_transform(X_pre)\n",
    "X = torch.tensor(X_scaled, dtype= torch.float32)\n"
   ]
  },
  {
   "cell_type": "code",
   "execution_count": 55,
   "id": "fa28aee0",
   "metadata": {},
   "outputs": [],
   "source": [
    "from sklearn.model_selection import train_test_split\n",
    "\n",
    "X_train, X_test, y_train, y_test = train_test_split(X, y, test_size=0.2, random_state=42)"
   ]
  },
  {
   "cell_type": "code",
   "execution_count": 56,
   "id": "6b68c727",
   "metadata": {},
   "outputs": [],
   "source": [
    "## build a simple model \n",
    "import torch.nn as nn \n",
    "\n",
    "model = nn.Sequential(\n",
    "    nn.Linear(len(imp_features), 16),\n",
    "    nn.ReLU(),\n",
    "    nn.Linear(16, 8),\n",
    "    nn.ReLU(),\n",
    "    nn.Linear(8, 1)\n",
    ")\n",
    "\n",
    "loss_fn = nn.MSELoss()\n"
   ]
  },
  {
   "cell_type": "code",
   "execution_count": 57,
   "id": "729aad76",
   "metadata": {},
   "outputs": [],
   "source": [
    "import torch.optim as optim\n",
    "optimizer = optim.Adam(model.parameters(), lr=0.001, weight_decay=1e-5 )"
   ]
  },
  {
   "cell_type": "code",
   "execution_count": 58,
   "id": "37810a6f",
   "metadata": {},
   "outputs": [
    {
     "name": "stderr",
     "output_type": "stream",
     "text": [
      "/opt/anaconda3/envs/timeseries/lib/python3.9/site-packages/torch/optim/lr_scheduler.py:62: UserWarning: The verbose parameter is deprecated. Please use get_last_lr() to access the learning rate.\n",
      "  warnings.warn(\n"
     ]
    }
   ],
   "source": [
    "# add a learning rate scheduler (proposed by claude.ai)\n",
    "scheduler = optim.lr_scheduler.ReduceLROnPlateau(optimizer=optimizer, mode = 'min', factor=0.5, patience=50, verbose=True)"
   ]
  },
  {
   "cell_type": "code",
   "execution_count": 59,
   "id": "d525e15f",
   "metadata": {},
   "outputs": [
    {
     "name": "stdout",
     "output_type": "stream",
     "text": [
      "Epoch [100/1000], Train Loss: 0.42, Val Loss: 0.46\n",
      "Epoch [200/1000], Train Loss: 0.26, Val Loss: 0.29\n",
      "Epoch [300/1000], Train Loss: 0.24, Val Loss: 0.27\n",
      "Epoch [400/1000], Train Loss: 0.23, Val Loss: 0.26\n",
      "Epoch [500/1000], Train Loss: 0.22, Val Loss: 0.25\n",
      "Epoch [600/1000], Train Loss: 0.22, Val Loss: 0.25\n",
      "Epoch [700/1000], Train Loss: 0.21, Val Loss: 0.25\n",
      "Epoch [800/1000], Train Loss: 0.21, Val Loss: 0.25\n",
      "Epoch [900/1000], Train Loss: 0.21, Val Loss: 0.24\n",
      "Epoch [1000/1000], Train Loss: 0.20, Val Loss: 0.24\n"
     ]
    }
   ],
   "source": [
    "## training loop \n",
    "\n",
    "\n",
    "train_losses = []\n",
    "eval_losses = []\n",
    "\n",
    "#early stopping mechanism (proposed by claude.ai)\n",
    "patience = 100\n",
    "best_val_loss = float('inf')\n",
    "counter = 0\n",
    "\n",
    "num_epochs = 1000\n",
    "for epoch in range(num_epochs):\n",
    "    \n",
    "    model.train()\n",
    "    predictions = model(X_train).squeeze()\n",
    "    train_loss = loss_fn(predictions, y_train)\n",
    "\n",
    "    train_loss.backward()\n",
    "    optimizer.step()\n",
    "    optimizer.zero_grad()\n",
    "\n",
    "\n",
    "    model.eval()\n",
    "    with torch.no_grad():\n",
    "        eval_predictions = model(X_test).squeeze()\n",
    "        eval_loss = loss_fn(eval_predictions, y_test)\n",
    "\n",
    "    \n",
    "    scheduler.step(eval_loss)\n",
    "    \n",
    "\n",
    "    train_losses.append(train_loss.item())\n",
    "    eval_losses.append(eval_loss.item())\n",
    "\n",
    "    if (epoch + 1)% 100 == 0:\n",
    "        print(f'Epoch [{epoch + 1}/{num_epochs}], Train Loss: {train_loss.item():.2f}, Val Loss: {eval_loss.item():.2f}')\n",
    "\n",
    "\n",
    "    if eval_loss < best_val_loss:\n",
    "        best_val_loss = eval_loss\n",
    "        counter = 0\n",
    "\n",
    "        torch.save(model.state_dict(), 'best_model.pt')\n",
    "    else:\n",
    "        counter  += 1\n",
    "        if counter >= patience:\n",
    "            print(f'early stopping in epoch {epoch + 1}')\n",
    "            break\n",
    "\n",
    "\n",
    "    "
   ]
  },
  {
   "cell_type": "code",
   "execution_count": 62,
   "id": "0f122a68",
   "metadata": {},
   "outputs": [
    {
     "name": "stdout",
     "output_type": "stream",
     "text": [
      "Test MSE: 1.94\n",
      "R² Score: -1792.5734\n"
     ]
    },
    {
     "name": "stderr",
     "output_type": "stream",
     "text": [
      "/var/folders/fl/v92s5yms06xcc1c654z7q5fh0000gn/T/ipykernel_20883/3154875118.py:1: FutureWarning: You are using `torch.load` with `weights_only=False` (the current default value), which uses the default pickle module implicitly. It is possible to construct malicious pickle data which will execute arbitrary code during unpickling (See https://github.com/pytorch/pytorch/blob/main/SECURITY.md#untrusted-models for more details). In a future release, the default value for `weights_only` will be flipped to `True`. This limits the functions that could be executed during unpickling. Arbitrary objects will no longer be allowed to be loaded via this mode unless they are explicitly allowlisted by the user via `torch.serialization.add_safe_globals`. We recommend you start setting `weights_only=True` for any use case where you don't have full control of the loaded file. Please open an issue on GitHub for any issues related to this experimental feature.\n",
      "  model.load_state_dict(torch.load('best_model.pt'))\n"
     ]
    }
   ],
   "source": [
    "model.load_state_dict(torch.load('best_model.pt'))\n",
    "model.eval()\n",
    "\n",
    "\n",
    "with torch.no_grad():\n",
    "    test_predictions = model(X_test)\n",
    "    test_loss = loss_fn(test_predictions, y_test)\n",
    "\n",
    "    # Calculate R² score\n",
    "    y_mean = y_test.mean()\n",
    "    ss_tot = ((y_test - y_mean) ** 2).sum()\n",
    "    ss_res = ((y_test - test_predictions) ** 2).sum()\n",
    "    r2 = 1 - (ss_res / ss_tot)\n",
    "    \n",
    "    print(f\"Test MSE: {test_loss.item():.2f}\")\n",
    "    print(f\"R² Score: {r2.item():.4f}\")"
   ]
  },
  {
   "cell_type": "code",
   "execution_count": 61,
   "id": "c5a93e3b",
   "metadata": {},
   "outputs": [
    {
     "data": {
      "image/png": "[encoded data removed]",
      "text/plain": [
       "<Figure size 1000x500 with 1 Axes>"
      ]
     },
     "metadata": {},
     "output_type": "display_data"
    },
    {
     "data": {
      "image/png": "[encoded data removed]",
      "text/plain": [
       "<Figure size 1000x500 with 1 Axes>"
      ]
     },
     "metadata": {},
     "output_type": "display_data"
    }
   ],
   "source": [
    "## visualaization (100% generated by claude.ai)\n",
    "\n",
    "import matplotlib.pyplot as plt\n",
    "\n",
    "# Plot training history\n",
    "plt.figure(figsize=(10, 5))\n",
    "plt.plot(train_losses, label='Training Loss')\n",
    "plt.plot(eval_losses, label='Validation Loss')\n",
    "plt.xlabel('Epochs')\n",
    "plt.ylabel('MSE Loss')\n",
    "plt.legend()\n",
    "plt.title('Training and Validation Loss')\n",
    "plt.show()\n",
    "\n",
    "# Plot predictions vs actual\n",
    "plt.figure(figsize=(10, 5))\n",
    "plt.scatter(y_test.numpy(), test_predictions.numpy())\n",
    "plt.plot([y_test.min(), y_test.max()], [y_test.min(), y_test.max()], 'r--')\n",
    "plt.xlabel('Actual Rent')\n",
    "plt.ylabel('Predicted Rent')\n",
    "plt.title('Predicted vs Actual Rent')\n",
    "plt.show()\n"
   ]
  }
 ],
 "metadata": {
  "kernelspec": {
   "display_name": "timeseries",
   "language": "python",
   "name": "python3"
  },
  "language_info": {
   "codemirror_mode": {
    "name": "ipython",
    "version": 3
   },
   "file_extension": ".py",
   "mimetype": "text/x-python",
   "name": "python",
   "nbconvert_exporter": "python",
   "pygments_lexer": "ipython3",
   "version": "3.9.18"
  }
 },
 "nbformat": 4,
 "nbformat_minor": 5
}
